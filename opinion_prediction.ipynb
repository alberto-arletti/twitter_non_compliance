{
 "cells": [
  {
   "cell_type": "code",
   "execution_count": null,
   "id": "700b0189",
   "metadata": {},
   "outputs": [],
   "source": [
    "# load libraries \n",
    "import pandas as pd\n",
    "import numpy as np\n",
    "from sklearn.model_selection import train_test_split\n",
    "# for xgboost\n",
    "from xgboost import XGBClassifier\n",
    "from sklearn.metrics import accuracy_score"
   ]
  },
  {
   "cell_type": "code",
   "execution_count": null,
   "id": "c15ff4f4",
   "metadata": {},
   "outputs": [],
   "source": [
    "# load labelled data \n",
    "df = pd.read_csv('/Users/.../csv_files/labelled.csv')\n",
    "# to int\n",
    "df['label'] = df['label'].astype(int)\n",
    "# merge with other dataset\n",
    "dd = pd.concat([df, \n",
    "           pd.read_csv('csv_files/predicted.csv')[['0', '1']]], axis = 1)"
   ]
  },
  {
   "cell_type": "code",
   "execution_count": null,
   "id": "5ceb093e",
   "metadata": {},
   "outputs": [],
   "source": [
    "# also add information on when tweets creaed\n",
    "dd['year'] = dd['created_at'].apply(lambda x: x[:4])\n",
    "dd['month'] = dd['created_at'].apply(lambda x: x[5:7])\n",
    "# create to train\n",
    "x_ = pd.concat([\n",
    "    dd[dd.columns[22:34]].astype(int),\n",
    "    dd[dd.columns[37:40]].astype(float),\n",
    "    dd[dd.columns[45:]].astype(float)\n",
    "    ], axis = 1)\n",
    "# create\n",
    "to_model = pd.concat([x_, dd['label']], axis=1).dropna()\n",
    "to_model.head(2)"
   ]
  },
  {
   "cell_type": "code",
   "execution_count": null,
   "id": "7ad8af89",
   "metadata": {},
   "outputs": [],
   "source": [
    "# Sample data (replace with your own dataset)\n",
    "X = to_model.drop('label', axis=1).values\n",
    "y = to_model['label'].values\n",
    "\n",
    "# Split the data into training and testing sets\n",
    "X_train, X_test, y_train, y_test = train_test_split(X, y, test_size=0.2, random_state=2)"
   ]
  },
  {
   "cell_type": "code",
   "execution_count": null,
   "id": "9e7f5ad8",
   "metadata": {},
   "outputs": [],
   "source": [
    "model = XGBClassifier(objective='binary:logistic', max_depth = 20, num_parallel_tree=5)\n",
    "\n",
    "model.fit(X_train, y_train)"
   ]
  },
  {
   "cell_type": "code",
   "execution_count": null,
   "id": "882d11a6",
   "metadata": {},
   "outputs": [],
   "source": [
    "# Make predictions on the test data\n",
    "y_pred = model.predict(X_test)\n",
    "\n",
    "# Calculate accuracy\n",
    "accuracy = accuracy_score(y_test, y_pred)\n",
    "print(f\"Accuracy: {accuracy * 100:.2f}%\")"
   ]
  }
 ],
 "metadata": {
  "kernelspec": {
   "display_name": "Python 3 (ipykernel)",
   "language": "python",
   "name": "python3"
  },
  "language_info": {
   "codemirror_mode": {
    "name": "ipython",
    "version": 3
   },
   "file_extension": ".py",
   "mimetype": "text/x-python",
   "name": "python",
   "nbconvert_exporter": "python",
   "pygments_lexer": "ipython3",
   "version": "3.8.9"
  }
 },
 "nbformat": 4,
 "nbformat_minor": 5
}
